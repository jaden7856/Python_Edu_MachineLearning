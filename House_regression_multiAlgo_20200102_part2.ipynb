{
 "cells": [
  {
   "cell_type": "code",
   "execution_count": 108,
   "metadata": {},
   "outputs": [],
   "source": [
    "# Import libraries\n",
    "\n",
    "from sklearn.model_selection import GridSearchCV,RandomizedSearchCV,learning_curve, cross_val_score, KFold\n",
    "from sklearn.preprocessing import StandardScaler, RobustScaler\n",
    "from sklearn.svm import SVR\n",
    "from sklearn.ensemble import RandomForestRegressor\n",
    "from sklearn.metrics import accuracy_score, mean_squared_error\n",
    "\n",
    "from sklearn.linear_model import LassoCV,ElasticNetCV,Lasso,ElasticNet\n",
    "from sklearn.kernel_ridge import KernelRidge\n",
    "\n",
    "\n",
    "# 아래 추가적인 패키지가 설치가 되어 있어야 함!!!!!!!\n",
    "from xgboost import XGBRegressor\n",
    "from mlxtend.regressor import StackingRegressor\n",
    "\n",
    "\n",
    "# 시간\n",
    "import time"
   ]
  },
  {
   "cell_type": "markdown",
   "metadata": {},
   "source": [
    "#### 정규화 작업"
   ]
  },
  {
   "cell_type": "code",
   "execution_count": 109,
   "metadata": {},
   "outputs": [],
   "source": [
    "scaler = StandardScaler()\n",
    "scaler.fit(X_train)\n",
    "\n",
    "X_train = scaler.transform(X_train)\n",
    "#X_train = RobustScaler().fit_transform(X_train)\n",
    "X_train = pd.DataFrame(X_train, columns = df.columns )\n",
    "\n",
    "X_test = scaler.transform(X_test)\n",
    "X_test = pd.DataFrame(X_test, columns = df.columns)\n",
    "#X_test = RobustScaler().fit_transform(X_test)"
   ]
  },
  {
   "cell_type": "code",
   "execution_count": 110,
   "metadata": {},
   "outputs": [
    {
     "data": {
      "text/plain": [
       "0    12.247699\n",
       "1    12.109016\n",
       "2    12.317171\n",
       "3    11.849405\n",
       "4    12.429220\n",
       "Name: SalePrice, dtype: float64"
      ]
     },
     "execution_count": 110,
     "metadata": {},
     "output_type": "execute_result"
    }
   ],
   "source": [
    "y_df.head()"
   ]
  },
  {
   "cell_type": "code",
   "execution_count": 111,
   "metadata": {},
   "outputs": [
    {
     "data": {
      "text/plain": [
       "(1456,)"
      ]
     },
     "execution_count": 111,
     "metadata": {},
     "output_type": "execute_result"
    }
   ],
   "source": [
    "y_df.shape"
   ]
  },
  {
   "cell_type": "code",
   "execution_count": 112,
   "metadata": {},
   "outputs": [
    {
     "data": {
      "text/plain": [
       "12.24769911637256"
      ]
     },
     "execution_count": 112,
     "metadata": {},
     "output_type": "execute_result"
    }
   ],
   "source": [
    "#  참고) 위에서 제일 원본 데이터는 208500이였는데, 이것을 log1p로 변환한 것을 정답지로 놓고 하는 것이니\n",
    "# 하기 전에 맞게 변환이 되었는지 확인!!!!!!\n",
    "np.log1p(208500)"
   ]
  },
  {
   "cell_type": "markdown",
   "metadata": {},
   "source": [
    "#### 모델의 종류들 : 평가는 root-mean-squared-error 로 평가\n",
    "\n",
    "        Ridge Regression\n",
    "        Lasso Regression\n",
    "        ElasticNet Regression\n",
    "        Support Vector Machine\n",
    "        Random Forest\n",
    "        XG Boost"
   ]
  },
  {
   "cell_type": "markdown",
   "metadata": {},
   "source": [
    "##### 평가 및 kfold 사용 준비"
   ]
  },
  {
   "cell_type": "code",
   "execution_count": 113,
   "metadata": {},
   "outputs": [],
   "source": [
    "kfold = KFold(n_splits=6, random_state= 0, shuffle = True)"
   ]
  },
  {
   "cell_type": "code",
   "execution_count": 114,
   "metadata": {},
   "outputs": [],
   "source": [
    "def rmsle_cv(model):\n",
    "    rmse= np.sqrt(-cross_val_score(model, X_train, y_df, \n",
    "                                   scoring=\"neg_mean_squared_error\", cv = kfold))\n",
    "    return(rmse)"
   ]
  },
  {
   "cell_type": "markdown",
   "metadata": {},
   "source": [
    "##### Random Forest"
   ]
  },
  {
   "cell_type": "code",
   "execution_count": null,
   "metadata": {},
   "outputs": [],
   "source": [
    "from sklearn.model_selection import GridSearchCV,RandomizedSearchCV,learning_curve, cross_val_score, KFold\n",
    "from sklearn.ensemble import RandomForestRegressor\n",
    "from sklearn.metrics import accuracy_score, mean_squared_error"
   ]
  },
  {
   "cell_type": "markdown",
   "metadata": {},
   "source": [
    "* ref) https://scikit-learn.org/stable/modules/generated/sklearn.ensemble.RandomForestRegressor.html"
   ]
  },
  {
   "cell_type": "code",
   "execution_count": 115,
   "metadata": {},
   "outputs": [
    {
     "name": "stdout",
     "output_type": "stream",
     "text": [
      "Fitting 6 folds for each of 4 candidates, totalling 24 fits\n"
     ]
    },
    {
     "name": "stderr",
     "output_type": "stream",
     "text": [
      "[Parallel(n_jobs=-1)]: Using backend LokyBackend with 4 concurrent workers.\n",
      "[Parallel(n_jobs=-1)]: Done  24 out of  24 | elapsed:   28.2s finished\n"
     ]
    },
    {
     "name": "stdout",
     "output_type": "stream",
     "text": [
      "RandomForestRegressor(bootstrap=True, ccp_alpha=0.0, criterion='mse',\n",
      "                      max_depth=None, max_features='auto', max_leaf_nodes=None,\n",
      "                      max_samples=None, min_impurity_decrease=0.0,\n",
      "                      min_impurity_split=None, min_samples_leaf=2,\n",
      "                      min_samples_split=2, min_weight_fraction_leaf=0.0,\n",
      "                      n_estimators=100, n_jobs=-1, oob_score=True,\n",
      "                      random_state=1234, verbose=0, warm_start=True)\n"
     ]
    }
   ],
   "source": [
    "RFC = RandomForestRegressor(random_state = 1234, n_jobs=-1)\n",
    "\n",
    "rf_param_grid = {\n",
    "    \"n_estimators\" : [100],\n",
    "    \n",
    "    # The function to measure the quality of a split  : 기본 mse - mean squared error\n",
    "    # \"criterion\":['mse', 'mae'],\n",
    "    \"criterion\":['mse'],\n",
    "    \n",
    "    \"max_depth\" : [None ],\n",
    "    \n",
    "    # Default : 2\n",
    "    # \"min_samples_split\":[1, 2],\n",
    "    \"min_samples_leaf\" : [2],\n",
    "    \n",
    "    # \n",
    "    # \"min_weight_fraction_leaf\" : [],\n",
    "    \n",
    "    # The number of features to consider when looking for the best split:\n",
    "    # If “auto”, then max_features=n_features.\n",
    "    # If “sqrt”, then max_features=sqrt(n_features).\n",
    "    # If “log2”, then max_features=log2(n_features).\n",
    "    # If None, then max_features=n_features.\n",
    "    \n",
    "    # \"max_features\" : [\"auto\", \"sqrt\"],\n",
    "    \"max_features\" : [\"auto\"],\n",
    "    \n",
    "    # Grow trees with max_leaf_nodes in best-first fashion.\n",
    "    \"max_leaf_nodes\" : [None],\n",
    "    \n",
    "    # A node will be split if this split induces a decrease of the impurity greater than or equal to this value.\n",
    "    # \"min_impurity_decrease\" : \n",
    "    \n",
    "    # Threshold for early stopping in tree growth. A node will split if its impurity is above the threshold, otherwise it is a leaf.\n",
    "    # \"min_impurity_split\" : []\n",
    "    \n",
    "    # Whether bootstrap samples are used when building trees.: Default - True\n",
    "    \"bootstrap\" : [True],\n",
    "    \n",
    "    # whether to use out-of-bag samples to estimate the R^2 on unseen data.\n",
    "    # Default : False\n",
    "    \"oob_score\" : [True, False],\n",
    "    \n",
    "    \"n_jobs\" : [-1],\n",
    "    \n",
    "    # When set to True, reuse the solution of the previous call to fit and add more estimators to the ensemble, otherwise, just fit a whole new forest.\n",
    "    \"warm_start\" : [True, False]\n",
    "}\n",
    "\n",
    "\n",
    "gsRFC = GridSearchCV(RFC,\n",
    "                     param_grid = rf_param_grid, \n",
    "                     cv = kfold, \n",
    "                     scoring = \"neg_mean_squared_error\", \n",
    "                     n_jobs = -1, verbose = 1)\n",
    "gsRFC.fit(X_train,y_df)\n",
    "gsRFC_best = gsRFC.best_estimator_\n",
    "print(gsRFC_best)"
   ]
  },
  {
   "cell_type": "code",
   "execution_count": 116,
   "metadata": {},
   "outputs": [
    {
     "name": "stdout",
     "output_type": "stream",
     "text": [
      "Random Forest mean score: 0.1376128355606156\n",
      "Random Forest std: 0.010441275582848748\n"
     ]
    }
   ],
   "source": [
    "print(\"Random Forest mean score:\", rmsle_cv(gsRFC_best).mean())\n",
    "print(\"Random Forest std:\", rmsle_cv(gsRFC_best).std())"
   ]
  },
  {
   "cell_type": "code",
   "execution_count": 117,
   "metadata": {},
   "outputs": [],
   "source": [
    "y_submission_5 = np.expm1(gsRFC_best.predict(X_test))"
   ]
  },
  {
   "cell_type": "code",
   "execution_count": 121,
   "metadata": {},
   "outputs": [
    {
     "data": {
      "text/plain": [
       "array([11.71734382, 11.96353297, 12.06428059, ..., 11.95490371,\n",
       "       11.63400122, 12.32743214])"
      ]
     },
     "execution_count": 121,
     "metadata": {},
     "output_type": "execute_result"
    }
   ],
   "source": [
    "gsRFC_best.predict(X_test)"
   ]
  },
  {
   "cell_type": "code",
   "execution_count": 122,
   "metadata": {},
   "outputs": [
    {
     "data": {
      "text/plain": [
       "array([122680.12925131, 156925.52366703, 173559.33903746, ...,\n",
       "       155577.18900323, 112870.04188337, 225805.14351727])"
      ]
     },
     "execution_count": 122,
     "metadata": {},
     "output_type": "execute_result"
    }
   ],
   "source": [
    "y_submission_5"
   ]
  },
  {
   "cell_type": "code",
   "execution_count": null,
   "metadata": {},
   "outputs": [],
   "source": []
  },
  {
   "cell_type": "code",
   "execution_count": null,
   "metadata": {},
   "outputs": [],
   "source": []
  },
  {
   "cell_type": "code",
   "execution_count": null,
   "metadata": {},
   "outputs": [],
   "source": []
  }
 ],
 "metadata": {
  "kernelspec": {
   "display_name": "Python 3",
   "language": "python",
   "name": "python3"
  },
  "language_info": {
   "codemirror_mode": {
    "name": "ipython",
    "version": 3
   },
   "file_extension": ".py",
   "mimetype": "text/x-python",
   "name": "python",
   "nbconvert_exporter": "python",
   "pygments_lexer": "ipython3",
   "version": "3.7.4"
  },
  "toc": {
   "base_numbering": 1,
   "nav_menu": {},
   "number_sections": true,
   "sideBar": true,
   "skip_h1_title": false,
   "title_cell": "Table of Contents",
   "title_sidebar": "Contents",
   "toc_cell": false,
   "toc_position": {},
   "toc_section_display": true,
   "toc_window_display": false
  },
  "varInspector": {
   "cols": {
    "lenName": 16,
    "lenType": 16,
    "lenVar": 40
   },
   "kernels_config": {
    "python": {
     "delete_cmd_postfix": "",
     "delete_cmd_prefix": "del ",
     "library": "var_list.py",
     "varRefreshCmd": "print(var_dic_list())"
    },
    "r": {
     "delete_cmd_postfix": ") ",
     "delete_cmd_prefix": "rm(",
     "library": "var_list.r",
     "varRefreshCmd": "cat(var_dic_list()) "
    }
   },
   "types_to_exclude": [
    "module",
    "function",
    "builtin_function_or_method",
    "instance",
    "_Feature"
   ],
   "window_display": false
  }
 },
 "nbformat": 4,
 "nbformat_minor": 2
}
